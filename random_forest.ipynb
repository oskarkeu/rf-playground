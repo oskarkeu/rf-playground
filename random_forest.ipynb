{
 "cells": [
  {
   "cell_type": "markdown",
   "metadata": {},
   "source": [
    "# Random forest"
   ]
  },
  {
   "cell_type": "code",
   "execution_count": 21,
   "metadata": {
    "collapsed": true
   },
   "outputs": [],
   "source": [
    "import numpy as np"
   ]
  },
  {
   "cell_type": "code",
   "execution_count": null,
   "metadata": {
    "collapsed": true
   },
   "outputs": [],
   "source": [
    "class Node:\n",
    "    def __init__(self, data, gini, value):\n",
    "        # The gini impurity\n",
    "        self.gini = gini\n",
    "        # List with frequencies of classes\n",
    "        self.value = value\n",
    "        # List of (input, label) tuples\n",
    "        self.data = data\n",
    "        # Number of datapoints in the node\n",
    "        self.size = len(data)\n",
    "        # Feature value at which a node is split\n",
    "        self.split = None\n",
    "        #\n",
    "        self.output = None\n",
    "        # A leaf node determines the classification\n",
    "        self.is_leaf = False"
   ]
  },
  {
   "cell_type": "code",
   "execution_count": 14,
   "metadata": {
    "collapsed": true
   },
   "outputs": [],
   "source": [
    "class Tree:\n",
    "    \n",
    "    def __init__(self, inputs, labels):\n",
    "        self.classes = set(labels)\n",
    "        self.indices = dict(zip(list(self.classes),range(len(self.classes))))\n",
    "        assert(len(inputs) == len(labels))\n",
    "        self.nodes = dict()\n",
    "        self.data = list(zip(inputs, labels))\n",
    "        \n",
    "    def evaluate_split(self, data):\n",
    "        #Returns: split value, gini_impurity, feature_index\n",
    "        pass\n",
    "    \n",
    "    def find_split_for_feature(self, data, feature_index):\n",
    "        # Returns: split value and gini impurity\n",
    "        pass\n",
    "    \n",
    "    def split(self, data, split_value, feature_index):\n",
    "        left = []\n",
    "        right = []\n",
    "        for x, label in data:\n",
    "            if x[feature_index] > split_value:\n",
    "                right.append((x, label))\n",
    "            else:\n",
    "                left.append((x, label))\n",
    "        left_value = self.compute_node_value(left)\n",
    "        right_value = self.compute_node_value(right)\n",
    "        left_node = Node(left, self.compute_gini(left_value), left_value)\n",
    "        right_node = Node(right, self.compute_gini(right_value), right_value)\n",
    "\n",
    "    def compute_gini(self, value):\n",
    "        return 1 - np.sum((value / sum(value))**2)\n",
    "    \n",
    "    def compute_node_value(self, data): # TODO: do not recompute\n",
    "        value = [0] * len(self.classes)\n",
    "        for _, label in data:\n",
    "            value[self.indices[label]] += 1\n",
    "        return value"
   ]
  },
  {
   "cell_type": "code",
   "execution_count": 10,
   "metadata": {
    "collapsed": true
   },
   "outputs": [],
   "source": [
    "class Forest:\n",
    "    \n",
    "    def __init__(self):\n",
    "        pass\n",
    "\n",
    "    def make_tree(self):\n",
    "        pass"
   ]
  },
  {
   "cell_type": "code",
   "execution_count": 16,
   "metadata": {},
   "outputs": [],
   "source": [
    "tree = Tree([1.213987321, 3.4342], [\"cat\", \"dot\"])"
   ]
  },
  {
   "cell_type": "code",
   "execution_count": 13,
   "metadata": {},
   "outputs": [
    {
     "data": {
      "text/plain": [
       "{'cat': 1, 'dot': 0}"
      ]
     },
     "execution_count": 13,
     "metadata": {},
     "output_type": "execute_result"
    }
   ],
   "source": [
    "tree.indices"
   ]
  },
  {
   "cell_type": "code",
   "execution_count": 18,
   "metadata": {
    "collapsed": true
   },
   "outputs": [],
   "source": [
    "x = [0,0,0]"
   ]
  },
  {
   "cell_type": "code",
   "execution_count": 19,
   "metadata": {
    "collapsed": true
   },
   "outputs": [],
   "source": [
    "x[1] += 1"
   ]
  },
  {
   "cell_type": "code",
   "execution_count": 20,
   "metadata": {},
   "outputs": [
    {
     "data": {
      "text/plain": [
       "[0, 1, 0]"
      ]
     },
     "execution_count": 20,
     "metadata": {},
     "output_type": "execute_result"
    }
   ],
   "source": [
    "x"
   ]
  },
  {
   "cell_type": "code",
   "execution_count": null,
   "metadata": {
    "collapsed": true
   },
   "outputs": [],
   "source": []
  }
 ],
 "metadata": {
  "kernelspec": {
   "display_name": "Python 3",
   "language": "python",
   "name": "python3"
  },
  "language_info": {
   "codemirror_mode": {
    "name": "ipython",
    "version": 3
   },
   "file_extension": ".py",
   "mimetype": "text/x-python",
   "name": "python",
   "nbconvert_exporter": "python",
   "pygments_lexer": "ipython3",
   "version": "3.6.3"
  }
 },
 "nbformat": 4,
 "nbformat_minor": 2
}
